{
 "cells": [
  {
   "cell_type": "markdown",
   "id": "b67e9bff-db75-43e1-8cca-1163f1724769",
   "metadata": {},
   "source": [
    "# Text Generation with Python and Keras\n",
    "\n",
    "+ Part One\n",
    "\n",
    "1. Read Moby Dick .txt files into pandas\n",
    "2. Process Text\n",
    "3. Clean Text\n",
    "4. Tokenize the Text and create Sequences with Keras"
   ]
  },
  {
   "cell_type": "code",
   "execution_count": 1,
   "id": "bab26109-ce33-4358-98bc-6feef020005d",
   "metadata": {},
   "outputs": [],
   "source": [
    "# Create a function to read in a .txt file\n",
    "# Once definition is written, a .txt file with four chapter of moby dick will appear below\n",
    "\n",
    "def read_file(filepath):\n",
    "    with open(filepath) as f:\n",
    "        str_text = f.read()\n",
    "        \n",
    "    return str_text"
   ]
  },
  {
   "cell_type": "code",
   "execution_count": 3,
   "id": "41e7fa31-9bc4-4399-a371-ab89d79505c8",
   "metadata": {},
   "outputs": [],
   "source": [
    "# \n",
    "\n",
    "# read_file('moby_dick_four_chapters.txt')"
   ]
  },
  {
   "cell_type": "code",
   "execution_count": 4,
   "id": "c54c445e-7ca6-4804-bb4b-551e87158709",
   "metadata": {},
   "outputs": [],
   "source": [
    "# importing spacy library to tokenize text\n",
    "# we will also disable any parts of th\n",
    "\n",
    "import spacy\n",
    "\n",
    "nlp = spacy.load('en_core_web_md', disable = ['parser', 'tagger', 'ner'])"
   ]
  },
  {
   "cell_type": "code",
   "execution_count": 5,
   "id": "5cb31692-088b-4a0b-9d6d-6efcaf040530",
   "metadata": {},
   "outputs": [],
   "source": [
    "nlp.max_length = 1198623"
   ]
  },
  {
   "cell_type": "code",
   "execution_count": 6,
   "id": "5dbb838b-ea6c-442a-9899-092ca684798e",
   "metadata": {},
   "outputs": [],
   "source": [
    "def separate_punc(doc_text):\n",
    "    return [token.text.lower() for token in nlp(doc_text) if token.text not in '\\n\\n \\n\\n\\n!\"-#$%&()--.*+,-/:;<=>?@[\\\\]^_`{|}~\\t\\n']"
   ]
  },
  {
   "cell_type": "code",
   "execution_count": 7,
   "id": "d4f31c33-0175-4593-a9cd-d73f813dd340",
   "metadata": {},
   "outputs": [],
   "source": [
    "d = read_file('moby_dick_four_chapters.txt')"
   ]
  },
  {
   "cell_type": "code",
   "execution_count": 11,
   "id": "10349201-9db8-45c5-9171-88d0904ad1cf",
   "metadata": {},
   "outputs": [],
   "source": [
    "tokens = separate_punc(d)"
   ]
  },
  {
   "cell_type": "code",
   "execution_count": 13,
   "id": "c9100319-7550-4d22-b011-5adb0129bec3",
   "metadata": {},
   "outputs": [],
   "source": [
    "# tokens"
   ]
  },
  {
   "cell_type": "code",
   "execution_count": 14,
   "id": "7c9d6f38-c9cf-41fd-8628-95cc3fcc0c17",
   "metadata": {},
   "outputs": [
    {
     "data": {
      "text/plain": [
       "11338"
      ]
     },
     "execution_count": 14,
     "metadata": {},
     "output_type": "execute_result"
    }
   ],
   "source": [
    "len(tokens)"
   ]
  },
  {
   "cell_type": "code",
   "execution_count": 15,
   "id": "5ad29959-288c-45eb-809d-6369f6732b36",
   "metadata": {},
   "outputs": [],
   "source": [
    "# 25 words --> Neural Network to predict the next word # 26"
   ]
  },
  {
   "cell_type": "markdown",
   "id": "b7ae13e2-48ca-4cd3-b7bb-dadd702d7fe0",
   "metadata": {},
   "source": [
    "## Create Sequence of Tokens"
   ]
  },
  {
   "cell_type": "code",
   "execution_count": 17,
   "id": "a8bdc5e9-0512-4c4a-adea-252bd43237cb",
   "metadata": {},
   "outputs": [],
   "source": [
    "# organize into sequences of tokens\n",
    "train_len = 25+1 #training words, then one target word\n",
    "\n",
    "# Creating an empty list of sequences\n",
    "text_sequences = []\n",
    "\n",
    "for i in range(train_len, len(tokens)): # range is the training length, up to the length of all of the tokens \n",
    "    \n",
    "    # grab the amount of characters in train_len\n",
    "    seq = tokens[i-train_len:i] # i minus train_len up to i \n",
    "    \n",
    "    # Add to text_sequences using append\n",
    "    text_sequences.append(seq)"
   ]
  },
  {
   "cell_type": "code",
   "execution_count": 46,
   "id": "bc124af5-6bf8-4cab-8463-3bfb5cb479a9",
   "metadata": {},
   "outputs": [
    {
     "data": {
      "text/plain": [
       "'call me ishmael some years ago never mind how long precisely having little or no money in my purse and nothing particular to interest me on'"
      ]
     },
     "execution_count": 46,
     "metadata": {},
     "output_type": "execute_result"
    }
   ],
   "source": [
    "' '.join(text_sequences[0])"
   ]
  },
  {
   "cell_type": "code",
   "execution_count": 19,
   "id": "51e2b86e-4567-4446-8607-d15ced5250a5",
   "metadata": {},
   "outputs": [
    {
     "data": {
      "text/plain": [
       "'me ishmael some years ago never mind how long precisely having little or no money in my purse and nothing particular to interest me on shore'"
      ]
     },
     "execution_count": 19,
     "metadata": {},
     "output_type": "execute_result"
    }
   ],
   "source": [
    "' '.join(text_sequences[1]) # moves one word over to the right - as we can see it started with call me and now it starts with me"
   ]
  },
  {
   "cell_type": "code",
   "execution_count": 20,
   "id": "8a500075-785a-4c3c-bfd5-415e10832a6a",
   "metadata": {},
   "outputs": [
    {
     "data": {
      "text/plain": [
       "'ishmael some years ago never mind how long precisely having little or no money in my purse and nothing particular to interest me on shore i'"
      ]
     },
     "execution_count": 20,
     "metadata": {},
     "output_type": "execute_result"
    }
   ],
   "source": [
    "' '.join(text_sequences[2]) # on this sequence again it moved one word over to the right, starting with ishmael"
   ]
  },
  {
   "cell_type": "code",
   "execution_count": 21,
   "id": "1abe8837-4793-468a-9add-cd7700d3715c",
   "metadata": {},
   "outputs": [
    {
     "data": {
      "text/plain": [
       "11312"
      ]
     },
     "execution_count": 21,
     "metadata": {},
     "output_type": "execute_result"
    }
   ],
   "source": [
    "len(text_sequences)"
   ]
  },
  {
   "cell_type": "code",
   "execution_count": 22,
   "id": "b274272b-0ae2-4e1d-9a10-ad829d21995e",
   "metadata": {},
   "outputs": [],
   "source": [
    "from keras.preprocessing.text import Tokenizer"
   ]
  },
  {
   "cell_type": "code",
   "execution_count": 48,
   "id": "8c31de1d-7477-4045-9088-2b948ef3a49f",
   "metadata": {},
   "outputs": [],
   "source": [
    "# integer encode sequences of words\n",
    "# the number is an id for the word - as it is unique to each word\n",
    "\n",
    "tokenizer = Tokenizer() # create the tokenizer object\n",
    "tokenizer.fit_on_texts(text_sequences) # calling on tokenizers fit_on_texts and provide the text_sequences\n",
    "sequences = tokenizer.texts_to_sequences(text_sequences) # calling on texts_to_sequences and replaces texts sequences to sequences of numbers"
   ]
  },
  {
   "cell_type": "code",
   "execution_count": 26,
   "id": "4d9aa7a9-34ca-4543-a45d-0b837468c52e",
   "metadata": {},
   "outputs": [],
   "source": [
    "# sequences[0]"
   ]
  },
  {
   "cell_type": "code",
   "execution_count": 28,
   "id": "5dc46620-ea92-4f9b-8ce2-f47bf6299c80",
   "metadata": {},
   "outputs": [],
   "source": [
    "# tokenizer.index_word"
   ]
  },
  {
   "cell_type": "code",
   "execution_count": 49,
   "id": "5c7703fe-87ed-42ba-8c05-cc402b192ef0",
   "metadata": {},
   "outputs": [
    {
     "name": "stdout",
     "output_type": "stream",
     "text": [
      "956 : call\n",
      "14 : me\n",
      "263 : ishmael\n",
      "51 : some\n",
      "261 : years\n",
      "408 : ago\n",
      "87 : never\n",
      "219 : mind\n",
      "129 : how\n",
      "111 : long\n",
      "954 : precisely\n",
      "260 : having\n",
      "50 : little\n",
      "43 : or\n",
      "38 : no\n",
      "314 : money\n",
      "7 : in\n",
      "23 : my\n",
      "546 : purse\n",
      "3 : and\n",
      "150 : nothing\n",
      "259 : particular\n",
      "6 : to\n",
      "2713 : interest\n",
      "14 : me\n",
      "24 : on\n"
     ]
    }
   ],
   "source": [
    "# for i in sequences, print out the id : followed by word\n",
    "for i in sequences[0]:\n",
    "    print(f'{i} : {tokenizer.index_word[i]}')"
   ]
  },
  {
   "cell_type": "code",
   "execution_count": 52,
   "id": "28d49de8-4b4a-4d13-b632-8437cd8cf3c6",
   "metadata": {},
   "outputs": [],
   "source": [
    "# tokenizer.word_counts # counts how many times each words shows up ie. Ishmael shows up 133 times in this .txt file"
   ]
  },
  {
   "cell_type": "code",
   "execution_count": 56,
   "id": "d42704d7-f896-4cb9-b63f-a1ea61eeb850",
   "metadata": {},
   "outputs": [],
   "source": [
    "vocabulary_size = len(tokenizer.word_counts)"
   ]
  },
  {
   "cell_type": "code",
   "execution_count": 38,
   "id": "437e61cf-3d85-415e-af91-ee50e8f314f3",
   "metadata": {},
   "outputs": [],
   "source": [
    "import numpy as np"
   ]
  },
  {
   "cell_type": "code",
   "execution_count": 57,
   "id": "dcb72652-8c10-4bab-8d5c-108eda68c48d",
   "metadata": {},
   "outputs": [],
   "source": [
    "sequences = np.array(sequences) # transforming sequences the list into a numpy array"
   ]
  },
  {
   "cell_type": "code",
   "execution_count": 60,
   "id": "bc489934-6522-491d-99b3-4afe236355ea",
   "metadata": {},
   "outputs": [
    {
     "data": {
      "text/plain": [
       "array([[ 956,   14,  263, ..., 2713,   14,   24],\n",
       "       [  14,  263,   51, ...,   14,   24,  957],\n",
       "       [ 263,   51,  261, ...,   24,  957,    5],\n",
       "       ...,\n",
       "       [ 952,   12,  166, ...,  262,   53,    2],\n",
       "       [  12,  166, 2712, ...,   53,    2, 2718],\n",
       "       [ 166, 2712,    3, ...,    2, 2718,   26]])"
      ]
     },
     "execution_count": 60,
     "metadata": {},
     "output_type": "execute_result"
    }
   ],
   "source": [
    "# last word on the right - ie. 24 in the first row is the target word or in other words the label\n",
    "# the features would be the 25 numbers starting from 956 and ending at 14\n",
    "\n",
    "sequences # formatted sequences into the numpy array"
   ]
  },
  {
   "cell_type": "markdown",
   "id": "709f632c-d55a-48b3-b139-92a6a977a412",
   "metadata": {},
   "source": [
    "## Creating an LSTM based model\n",
    "\n",
    "# Approach\n",
    "\n",
    "+ Create the LSTM based model\n",
    "+ Split the data into features and labels\n",
    "\n",
    "  - X Features (First 25 words of Sequence)\n",
    "  - Y Label (Next word after the sequence)\n",
    "\n",
    "\n",
    "+ Fit the model"
   ]
  },
  {
   "cell_type": "code",
   "execution_count": 43,
   "id": "00ef358b-257f-4e67-8548-553fb71ea887",
   "metadata": {},
   "outputs": [],
   "source": [
    "import keras\n",
    "from keras.models import Sequential\n",
    "from keras.layers import Dense, LSTM, Embedding"
   ]
  },
  {
   "cell_type": "code",
   "execution_count": 45,
   "id": "76ef458b-bda1-4eb7-9acf-ec563b87992d",
   "metadata": {},
   "outputs": [],
   "source": [
    "def create_model(vocabulary_size, seq_len):\n",
    "    model = Sequential()\n",
    "    model.add(Embedding(vocabulary_size, 25, input_length = seq_len))\n",
    "    model.add(LSTM(150, return_sequences = True))\n",
    "    model.add(LSTM(150))\n",
    "    model.add(Dense(150, activation = 'relu')) # relu = rectified linear activation function. Output directly if it is positive or else it will output zero.\n",
    "    \n",
    "    model.add(Dense(vocabulary_size, activation = 'softmax'))\n",
    "    \n",
    "    model.compile(loss = 'categorical_crossentropy', optimizer = 'adam', metrics = ['accuracy'])\n",
    "    \n",
    "    model.summary()\n",
    "    \n",
    "    return model"
   ]
  },
  {
   "cell_type": "markdown",
   "id": "e34f5e5f-91fa-4585-953f-4ccb93008e0c",
   "metadata": {},
   "source": [
    "# Train / Test Split"
   ]
  },
  {
   "cell_type": "code",
   "execution_count": 62,
   "id": "91d40530-f193-4547-84a4-5bd465f9023b",
   "metadata": {},
   "outputs": [],
   "source": [
    "from tensorflow.keras.utils import to_categorical"
   ]
  },
  {
   "cell_type": "code",
   "execution_count": 63,
   "id": "5eed86ba-6a7e-405a-9411-77de942b5233",
   "metadata": {},
   "outputs": [
    {
     "data": {
      "text/plain": [
       "array([[ 956,   14,  263, ..., 2713,   14,   24],\n",
       "       [  14,  263,   51, ...,   14,   24,  957],\n",
       "       [ 263,   51,  261, ...,   24,  957,    5],\n",
       "       ...,\n",
       "       [ 952,   12,  166, ...,  262,   53,    2],\n",
       "       [  12,  166, 2712, ...,   53,    2, 2718],\n",
       "       [ 166, 2712,    3, ...,    2, 2718,   26]])"
      ]
     },
     "execution_count": 63,
     "metadata": {},
     "output_type": "execute_result"
    }
   ],
   "source": [
    "sequences"
   ]
  },
  {
   "cell_type": "code",
   "execution_count": 66,
   "id": "3a7e1746-f50a-4c6b-a467-d2bb5b294bb4",
   "metadata": {},
   "outputs": [],
   "source": [
    "# First 49 words\n",
    "\n",
    "X = sequences[:,:-1] # Features - this gets the first 49 words and excludes the last which is y or the label"
   ]
  },
  {
   "cell_type": "code",
   "execution_count": 68,
   "id": "6fa673ff-fd10-4660-b782-e7ad95d37aa0",
   "metadata": {},
   "outputs": [],
   "source": [
    "y = sequences[:,-1] # Labels - last word and the word we are trying to predict"
   ]
  },
  {
   "cell_type": "code",
   "execution_count": 69,
   "id": "58f54243-4c02-41c1-9fff-ae0deb924f3e",
   "metadata": {},
   "outputs": [],
   "source": [
    "y = to_categorical(y, num_classes = vocabulary_size+1) # the way keras padding words it needs an extra 1 to hold 0"
   ]
  },
  {
   "cell_type": "code",
   "execution_count": 70,
   "id": "4d6cd645-a642-4223-b83a-fed59aa185d5",
   "metadata": {},
   "outputs": [],
   "source": [
    "seq_len = X.shape[1]"
   ]
  },
  {
   "cell_type": "code",
   "execution_count": 72,
   "id": "0a503657-f0ef-4046-94fa-1136d890957a",
   "metadata": {},
   "outputs": [
    {
     "data": {
      "text/plain": [
       "25"
      ]
     },
     "execution_count": 72,
     "metadata": {},
     "output_type": "execute_result"
    }
   ],
   "source": [
    "seq_len"
   ]
  },
  {
   "cell_type": "markdown",
   "id": "e1d4fe96-4bb8-4fde-8162-de048dba1566",
   "metadata": {},
   "source": [
    "# Training the Model"
   ]
  },
  {
   "cell_type": "code",
   "execution_count": 73,
   "id": "e66b8d71-d6f8-48c8-80d1-80c8b611aa10",
   "metadata": {},
   "outputs": [
    {
     "name": "stdout",
     "output_type": "stream",
     "text": [
      "Model: \"sequential\"\n",
      "_________________________________________________________________\n",
      " Layer (type)                Output Shape              Param #   \n",
      "=================================================================\n",
      " embedding (Embedding)       (None, 25, 25)            67975     \n",
      "                                                                 \n",
      " lstm (LSTM)                 (None, 25, 150)           105600    \n",
      "                                                                 \n",
      " lstm_1 (LSTM)               (None, 150)               180600    \n",
      "                                                                 \n",
      " dense (Dense)               (None, 150)               22650     \n",
      "                                                                 \n",
      " dense_1 (Dense)             (None, 2719)              410569    \n",
      "                                                                 \n",
      "=================================================================\n",
      "Total params: 787,394\n",
      "Trainable params: 787,394\n",
      "Non-trainable params: 0\n",
      "_________________________________________________________________\n"
     ]
    }
   ],
   "source": [
    "# defining the model\n",
    "\n",
    "model = create_model(vocabulary_size+1, seq_len)"
   ]
  },
  {
   "cell_type": "code",
   "execution_count": 74,
   "id": "6a130a96-af78-4a80-b06c-f02e41ee1376",
   "metadata": {},
   "outputs": [],
   "source": [
    "from pickle import dump,load"
   ]
  },
  {
   "cell_type": "code",
   "execution_count": 75,
   "id": "389816c2-279e-4a2e-852c-b73a1e47c0f6",
   "metadata": {},
   "outputs": [
    {
     "name": "stdout",
     "output_type": "stream",
     "text": [
      "Epoch 1/300\n",
      "89/89 [==============================] - 9s 56ms/step - loss: 6.8357 - accuracy: 0.0469\n",
      "Epoch 2/300\n",
      "89/89 [==============================] - 5s 56ms/step - loss: 6.3846 - accuracy: 0.0529\n",
      "Epoch 3/300\n",
      "89/89 [==============================] - 5s 54ms/step - loss: 6.3427 - accuracy: 0.0529\n",
      "Epoch 4/300\n",
      "89/89 [==============================] - 5s 53ms/step - loss: 6.2019 - accuracy: 0.0521\n",
      "Epoch 5/300\n",
      "89/89 [==============================] - 5s 53ms/step - loss: 6.0784 - accuracy: 0.0545\n",
      "Epoch 6/300\n",
      "89/89 [==============================] - 5s 57ms/step - loss: 5.9387 - accuracy: 0.0640\n",
      "Epoch 7/300\n",
      "89/89 [==============================] - 6s 67ms/step - loss: 5.8203 - accuracy: 0.0671\n",
      "Epoch 8/300\n",
      "89/89 [==============================] - 5s 60ms/step - loss: 5.7194 - accuracy: 0.0714\n",
      "Epoch 9/300\n",
      "89/89 [==============================] - 6s 62ms/step - loss: 5.6360 - accuracy: 0.0743\n",
      "Epoch 10/300\n",
      "89/89 [==============================] - 6s 65ms/step - loss: 5.5672 - accuracy: 0.0752\n",
      "Epoch 11/300\n",
      "89/89 [==============================] - 5s 61ms/step - loss: 5.5071 - accuracy: 0.0770\n",
      "Epoch 12/300\n",
      "89/89 [==============================] - 5s 61ms/step - loss: 5.4543 - accuracy: 0.0808\n",
      "Epoch 13/300\n",
      "89/89 [==============================] - 5s 61ms/step - loss: 5.4054 - accuracy: 0.0830\n",
      "Epoch 14/300\n",
      "89/89 [==============================] - 5s 56ms/step - loss: 5.3538 - accuracy: 0.0840\n",
      "Epoch 15/300\n",
      "89/89 [==============================] - 5s 59ms/step - loss: 5.3063 - accuracy: 0.0843\n",
      "Epoch 16/300\n",
      "89/89 [==============================] - 5s 57ms/step - loss: 5.2667 - accuracy: 0.0875\n",
      "Epoch 17/300\n",
      "89/89 [==============================] - 5s 56ms/step - loss: 5.2215 - accuracy: 0.0892\n",
      "Epoch 18/300\n",
      "89/89 [==============================] - 5s 56ms/step - loss: 5.1855 - accuracy: 0.0879\n",
      "Epoch 19/300\n",
      "89/89 [==============================] - 5s 56ms/step - loss: 5.1336 - accuracy: 0.0894\n",
      "Epoch 20/300\n",
      "89/89 [==============================] - 5s 56ms/step - loss: 5.0868 - accuracy: 0.0893\n",
      "Epoch 21/300\n",
      "89/89 [==============================] - 5s 56ms/step - loss: 5.0450 - accuracy: 0.0919\n",
      "Epoch 22/300\n",
      "89/89 [==============================] - 5s 59ms/step - loss: 4.9952 - accuracy: 0.0928\n",
      "Epoch 23/300\n",
      "89/89 [==============================] - 5s 59ms/step - loss: 4.9483 - accuracy: 0.0924\n",
      "Epoch 24/300\n",
      "89/89 [==============================] - 5s 59ms/step - loss: 4.9050 - accuracy: 0.0932\n",
      "Epoch 25/300\n",
      "89/89 [==============================] - 5s 58ms/step - loss: 4.8620 - accuracy: 0.0945\n",
      "Epoch 26/300\n",
      "89/89 [==============================] - 5s 55ms/step - loss: 4.8163 - accuracy: 0.0970\n",
      "Epoch 27/300\n",
      "89/89 [==============================] - 5s 56ms/step - loss: 4.9606 - accuracy: 0.0896\n",
      "Epoch 28/300\n",
      "89/89 [==============================] - 5s 55ms/step - loss: 4.8787 - accuracy: 0.0934\n",
      "Epoch 29/300\n",
      "89/89 [==============================] - 5s 56ms/step - loss: 4.7384 - accuracy: 0.0981\n",
      "Epoch 30/300\n",
      "89/89 [==============================] - 5s 56ms/step - loss: 4.6563 - accuracy: 0.0998\n",
      "Epoch 31/300\n",
      "89/89 [==============================] - 5s 56ms/step - loss: 4.6064 - accuracy: 0.1002\n",
      "Epoch 32/300\n",
      "89/89 [==============================] - 5s 56ms/step - loss: 4.5426 - accuracy: 0.1002\n",
      "Epoch 33/300\n",
      "89/89 [==============================] - 5s 58ms/step - loss: 4.4865 - accuracy: 0.1049\n",
      "Epoch 34/300\n",
      "89/89 [==============================] - 5s 59ms/step - loss: 4.4454 - accuracy: 0.1043\n",
      "Epoch 35/300\n",
      "89/89 [==============================] - 5s 58ms/step - loss: 4.4057 - accuracy: 0.1079\n",
      "Epoch 36/300\n",
      "89/89 [==============================] - 5s 59ms/step - loss: 4.3552 - accuracy: 0.1095\n",
      "Epoch 37/300\n",
      "89/89 [==============================] - 5s 59ms/step - loss: 4.4262 - accuracy: 0.1072\n",
      "Epoch 38/300\n",
      "89/89 [==============================] - 5s 58ms/step - loss: 4.4210 - accuracy: 0.1123\n",
      "Epoch 39/300\n",
      "89/89 [==============================] - 5s 58ms/step - loss: 4.4031 - accuracy: 0.1085\n",
      "Epoch 40/300\n",
      "89/89 [==============================] - 5s 57ms/step - loss: 4.3591 - accuracy: 0.1109\n",
      "Epoch 41/300\n",
      "89/89 [==============================] - 5s 56ms/step - loss: 4.3223 - accuracy: 0.1114\n",
      "Epoch 42/300\n",
      "89/89 [==============================] - 5s 57ms/step - loss: 4.2824 - accuracy: 0.1172\n",
      "Epoch 43/300\n",
      "89/89 [==============================] - 5s 56ms/step - loss: 4.2594 - accuracy: 0.1159\n",
      "Epoch 44/300\n",
      "89/89 [==============================] - 5s 56ms/step - loss: 4.2441 - accuracy: 0.1185\n",
      "Epoch 45/300\n",
      "89/89 [==============================] - 5s 57ms/step - loss: 4.2150 - accuracy: 0.1189\n",
      "Epoch 46/300\n",
      "89/89 [==============================] - 5s 58ms/step - loss: 4.1731 - accuracy: 0.1213\n",
      "Epoch 47/300\n",
      "89/89 [==============================] - 5s 58ms/step - loss: 4.1385 - accuracy: 0.1248\n",
      "Epoch 48/300\n",
      "89/89 [==============================] - 5s 58ms/step - loss: 4.1079 - accuracy: 0.1248\n",
      "Epoch 49/300\n",
      "89/89 [==============================] - 5s 59ms/step - loss: 4.0840 - accuracy: 0.1278\n",
      "Epoch 50/300\n",
      "89/89 [==============================] - 5s 59ms/step - loss: 4.0382 - accuracy: 0.1283\n",
      "Epoch 51/300\n",
      "89/89 [==============================] - 5s 58ms/step - loss: 4.0070 - accuracy: 0.1330\n",
      "Epoch 52/300\n",
      "89/89 [==============================] - 5s 58ms/step - loss: 3.9681 - accuracy: 0.1347\n",
      "Epoch 53/300\n",
      "89/89 [==============================] - 5s 60ms/step - loss: 3.9400 - accuracy: 0.1387\n",
      "Epoch 54/300\n",
      "89/89 [==============================] - 6s 64ms/step - loss: 3.8964 - accuracy: 0.1444\n",
      "Epoch 55/300\n",
      "89/89 [==============================] - 6s 62ms/step - loss: 3.8649 - accuracy: 0.1455\n",
      "Epoch 56/300\n",
      "89/89 [==============================] - 5s 55ms/step - loss: 3.8324 - accuracy: 0.1475\n",
      "Epoch 57/300\n",
      "89/89 [==============================] - 5s 54ms/step - loss: 3.8003 - accuracy: 0.1521\n",
      "Epoch 58/300\n",
      "89/89 [==============================] - 5s 54ms/step - loss: 3.7701 - accuracy: 0.1545\n",
      "Epoch 59/300\n",
      "89/89 [==============================] - 5s 55ms/step - loss: 3.7277 - accuracy: 0.1562\n",
      "Epoch 60/300\n",
      "89/89 [==============================] - 5s 55ms/step - loss: 3.6953 - accuracy: 0.1635\n",
      "Epoch 61/300\n",
      "89/89 [==============================] - 5s 56ms/step - loss: 3.6662 - accuracy: 0.1651\n",
      "Epoch 62/300\n",
      "89/89 [==============================] - 5s 55ms/step - loss: 3.6291 - accuracy: 0.1694\n",
      "Epoch 63/300\n",
      "89/89 [==============================] - 5s 55ms/step - loss: 3.6025 - accuracy: 0.1724\n",
      "Epoch 64/300\n",
      "89/89 [==============================] - 5s 56ms/step - loss: 3.5673 - accuracy: 0.1787\n",
      "Epoch 65/300\n",
      "89/89 [==============================] - 5s 56ms/step - loss: 3.5368 - accuracy: 0.1814\n",
      "Epoch 66/300\n",
      "89/89 [==============================] - 5s 54ms/step - loss: 3.5203 - accuracy: 0.1805\n",
      "Epoch 67/300\n",
      "89/89 [==============================] - 5s 54ms/step - loss: 3.4847 - accuracy: 0.1871\n",
      "Epoch 68/300\n",
      "89/89 [==============================] - 5s 54ms/step - loss: 3.4578 - accuracy: 0.1934\n",
      "Epoch 69/300\n",
      "89/89 [==============================] - 5s 55ms/step - loss: 3.4277 - accuracy: 0.1968\n",
      "Epoch 70/300\n",
      "89/89 [==============================] - 5s 55ms/step - loss: 3.3989 - accuracy: 0.1955\n",
      "Epoch 71/300\n",
      "89/89 [==============================] - 5s 57ms/step - loss: 3.3652 - accuracy: 0.2032\n",
      "Epoch 72/300\n",
      "89/89 [==============================] - 5s 54ms/step - loss: 3.3368 - accuracy: 0.2108\n",
      "Epoch 73/300\n",
      "89/89 [==============================] - 5s 54ms/step - loss: 3.3058 - accuracy: 0.2164\n",
      "Epoch 74/300\n",
      "89/89 [==============================] - 5s 54ms/step - loss: 3.2867 - accuracy: 0.2166\n",
      "Epoch 75/300\n",
      "89/89 [==============================] - 5s 55ms/step - loss: 3.2770 - accuracy: 0.2272\n",
      "Epoch 76/300\n",
      "89/89 [==============================] - 5s 57ms/step - loss: 3.2280 - accuracy: 0.2241\n",
      "Epoch 77/300\n",
      "89/89 [==============================] - 5s 61ms/step - loss: 3.3021 - accuracy: 0.2212\n",
      "Epoch 78/300\n",
      "89/89 [==============================] - 5s 56ms/step - loss: 4.0547 - accuracy: 0.1514\n",
      "Epoch 79/300\n",
      "89/89 [==============================] - 5s 55ms/step - loss: 3.6902 - accuracy: 0.1800\n",
      "Epoch 80/300\n",
      "89/89 [==============================] - 5s 54ms/step - loss: 3.5334 - accuracy: 0.1934\n",
      "Epoch 81/300\n",
      "89/89 [==============================] - 5s 54ms/step - loss: 3.4312 - accuracy: 0.2103\n",
      "Epoch 82/300\n",
      "89/89 [==============================] - 5s 54ms/step - loss: 3.4300 - accuracy: 0.2082\n",
      "Epoch 83/300\n",
      "89/89 [==============================] - 5s 55ms/step - loss: 3.5129 - accuracy: 0.1945\n",
      "Epoch 84/300\n",
      "89/89 [==============================] - 5s 55ms/step - loss: 3.5068 - accuracy: 0.1841\n",
      "Epoch 85/300\n",
      "89/89 [==============================] - 5s 55ms/step - loss: 3.4293 - accuracy: 0.2004\n",
      "Epoch 86/300\n",
      "89/89 [==============================] - 5s 54ms/step - loss: 3.3682 - accuracy: 0.2074\n",
      "Epoch 87/300\n",
      "89/89 [==============================] - 5s 55ms/step - loss: 3.3097 - accuracy: 0.2108\n",
      "Epoch 88/300\n",
      "89/89 [==============================] - 5s 55ms/step - loss: 3.2807 - accuracy: 0.2173\n",
      "Epoch 89/300\n",
      "89/89 [==============================] - 5s 54ms/step - loss: 3.2209 - accuracy: 0.2254\n",
      "Epoch 90/300\n",
      "89/89 [==============================] - 5s 55ms/step - loss: 3.1814 - accuracy: 0.2382\n",
      "Epoch 91/300\n",
      "89/89 [==============================] - 5s 55ms/step - loss: 3.1398 - accuracy: 0.2435\n",
      "Epoch 92/300\n",
      "89/89 [==============================] - 5s 54ms/step - loss: 3.1063 - accuracy: 0.2472\n",
      "Epoch 93/300\n",
      "89/89 [==============================] - 5s 54ms/step - loss: 3.0893 - accuracy: 0.2533\n",
      "Epoch 94/300\n",
      "89/89 [==============================] - 5s 54ms/step - loss: 3.0455 - accuracy: 0.2554\n",
      "Epoch 95/300\n",
      "89/89 [==============================] - 5s 54ms/step - loss: 2.9998 - accuracy: 0.2656\n",
      "Epoch 96/300\n",
      "89/89 [==============================] - 5s 54ms/step - loss: 2.9580 - accuracy: 0.2728\n",
      "Epoch 97/300\n",
      "89/89 [==============================] - 5s 54ms/step - loss: 2.9319 - accuracy: 0.2763\n",
      "Epoch 98/300\n",
      "89/89 [==============================] - 5s 54ms/step - loss: 2.8990 - accuracy: 0.2839\n",
      "Epoch 99/300\n",
      "89/89 [==============================] - 5s 54ms/step - loss: 2.8693 - accuracy: 0.2911\n",
      "Epoch 100/300\n",
      "89/89 [==============================] - 5s 54ms/step - loss: 2.8331 - accuracy: 0.2953\n",
      "Epoch 101/300\n",
      "89/89 [==============================] - 5s 54ms/step - loss: 2.7991 - accuracy: 0.3051\n",
      "Epoch 102/300\n",
      "89/89 [==============================] - 5s 54ms/step - loss: 2.7598 - accuracy: 0.3136\n",
      "Epoch 103/300\n",
      "89/89 [==============================] - 5s 54ms/step - loss: 2.7166 - accuracy: 0.3213\n",
      "Epoch 104/300\n",
      "89/89 [==============================] - 5s 54ms/step - loss: 2.6857 - accuracy: 0.3324\n",
      "Epoch 105/300\n",
      "89/89 [==============================] - 5s 54ms/step - loss: 2.6606 - accuracy: 0.3362\n",
      "Epoch 106/300\n",
      "89/89 [==============================] - 5s 54ms/step - loss: 2.6229 - accuracy: 0.3400\n",
      "Epoch 107/300\n",
      "89/89 [==============================] - 5s 54ms/step - loss: 2.5865 - accuracy: 0.3512\n",
      "Epoch 108/300\n",
      "89/89 [==============================] - 5s 54ms/step - loss: 2.5616 - accuracy: 0.3559\n",
      "Epoch 109/300\n",
      "89/89 [==============================] - 5s 54ms/step - loss: 2.5234 - accuracy: 0.3628\n",
      "Epoch 110/300\n",
      "89/89 [==============================] - 5s 54ms/step - loss: 2.4949 - accuracy: 0.3747\n",
      "Epoch 111/300\n",
      "89/89 [==============================] - 5s 54ms/step - loss: 2.4585 - accuracy: 0.3801\n",
      "Epoch 112/300\n",
      "89/89 [==============================] - 5s 54ms/step - loss: 2.4132 - accuracy: 0.3931\n",
      "Epoch 113/300\n",
      "89/89 [==============================] - 5s 54ms/step - loss: 2.3749 - accuracy: 0.4064\n",
      "Epoch 114/300\n",
      "89/89 [==============================] - 5s 55ms/step - loss: 2.3426 - accuracy: 0.4123\n",
      "Epoch 115/300\n",
      "89/89 [==============================] - 5s 54ms/step - loss: 2.3157 - accuracy: 0.4202\n",
      "Epoch 116/300\n",
      "89/89 [==============================] - 5s 54ms/step - loss: 2.2725 - accuracy: 0.4242\n",
      "Epoch 117/300\n",
      "89/89 [==============================] - 5s 54ms/step - loss: 2.2403 - accuracy: 0.4357\n",
      "Epoch 118/300\n",
      "89/89 [==============================] - 5s 54ms/step - loss: 2.1982 - accuracy: 0.4418\n",
      "Epoch 119/300\n",
      "89/89 [==============================] - 5s 54ms/step - loss: 2.1604 - accuracy: 0.4535\n",
      "Epoch 120/300\n",
      "89/89 [==============================] - 5s 54ms/step - loss: 2.1287 - accuracy: 0.4606\n",
      "Epoch 121/300\n",
      "89/89 [==============================] - 5s 54ms/step - loss: 2.0881 - accuracy: 0.4719\n",
      "Epoch 122/300\n",
      "89/89 [==============================] - 5s 54ms/step - loss: 2.0587 - accuracy: 0.4755\n",
      "Epoch 123/300\n",
      "89/89 [==============================] - 5s 54ms/step - loss: 2.0058 - accuracy: 0.4920\n",
      "Epoch 124/300\n",
      "89/89 [==============================] - 5s 54ms/step - loss: 1.9833 - accuracy: 0.5016\n",
      "Epoch 125/300\n",
      "89/89 [==============================] - 5s 55ms/step - loss: 1.9510 - accuracy: 0.5021\n",
      "Epoch 126/300\n",
      "89/89 [==============================] - 5s 54ms/step - loss: 1.9166 - accuracy: 0.5127\n",
      "Epoch 127/300\n",
      "89/89 [==============================] - 5s 54ms/step - loss: 1.8872 - accuracy: 0.5187\n",
      "Epoch 128/300\n",
      "89/89 [==============================] - 5s 54ms/step - loss: 1.8599 - accuracy: 0.5236\n",
      "Epoch 129/300\n",
      "89/89 [==============================] - 5s 54ms/step - loss: 1.8164 - accuracy: 0.5375\n",
      "Epoch 130/300\n",
      "89/89 [==============================] - 5s 54ms/step - loss: 1.7891 - accuracy: 0.5446\n",
      "Epoch 131/300\n",
      "89/89 [==============================] - 5s 54ms/step - loss: 1.7636 - accuracy: 0.5458\n",
      "Epoch 132/300\n",
      "89/89 [==============================] - 5s 56ms/step - loss: 1.7213 - accuracy: 0.5583\n",
      "Epoch 133/300\n",
      "89/89 [==============================] - 5s 55ms/step - loss: 1.6957 - accuracy: 0.5637\n",
      "Epoch 134/300\n",
      "89/89 [==============================] - 5s 54ms/step - loss: 1.6794 - accuracy: 0.5677\n",
      "Epoch 135/300\n",
      "89/89 [==============================] - 5s 54ms/step - loss: 1.6451 - accuracy: 0.5776\n",
      "Epoch 136/300\n",
      "89/89 [==============================] - 5s 54ms/step - loss: 1.6097 - accuracy: 0.5870\n",
      "Epoch 137/300\n",
      "89/89 [==============================] - 5s 54ms/step - loss: 1.5846 - accuracy: 0.5902\n",
      "Epoch 138/300\n",
      "89/89 [==============================] - 5s 54ms/step - loss: 1.5534 - accuracy: 0.6008\n",
      "Epoch 139/300\n",
      "89/89 [==============================] - 5s 55ms/step - loss: 1.5256 - accuracy: 0.6082\n",
      "Epoch 140/300\n",
      "89/89 [==============================] - 5s 54ms/step - loss: 1.5023 - accuracy: 0.6105\n",
      "Epoch 141/300\n",
      "89/89 [==============================] - 5s 54ms/step - loss: 1.4761 - accuracy: 0.6225\n",
      "Epoch 142/300\n",
      "89/89 [==============================] - 5s 55ms/step - loss: 1.4533 - accuracy: 0.6266\n",
      "Epoch 143/300\n",
      "89/89 [==============================] - 5s 54ms/step - loss: 1.4179 - accuracy: 0.6374\n",
      "Epoch 144/300\n",
      "89/89 [==============================] - 5s 54ms/step - loss: 1.3819 - accuracy: 0.6461\n",
      "Epoch 145/300\n",
      "89/89 [==============================] - 5s 55ms/step - loss: 1.3576 - accuracy: 0.6523\n",
      "Epoch 146/300\n",
      "89/89 [==============================] - 5s 55ms/step - loss: 1.3487 - accuracy: 0.6522\n",
      "Epoch 147/300\n",
      "89/89 [==============================] - 5s 55ms/step - loss: 1.3156 - accuracy: 0.6611\n",
      "Epoch 148/300\n",
      "89/89 [==============================] - 5s 54ms/step - loss: 1.2904 - accuracy: 0.6734\n",
      "Epoch 149/300\n",
      "89/89 [==============================] - 5s 55ms/step - loss: 1.2635 - accuracy: 0.6783\n",
      "Epoch 150/300\n",
      "89/89 [==============================] - 5s 54ms/step - loss: 1.2418 - accuracy: 0.6791\n",
      "Epoch 151/300\n",
      "89/89 [==============================] - 5s 54ms/step - loss: 1.2127 - accuracy: 0.6912\n",
      "Epoch 152/300\n",
      "89/89 [==============================] - 5s 55ms/step - loss: 1.1953 - accuracy: 0.6969\n",
      "Epoch 153/300\n",
      "89/89 [==============================] - 5s 54ms/step - loss: 1.1675 - accuracy: 0.7082\n",
      "Epoch 154/300\n",
      "89/89 [==============================] - 5s 54ms/step - loss: 1.1377 - accuracy: 0.7121\n",
      "Epoch 155/300\n",
      "89/89 [==============================] - 5s 54ms/step - loss: 1.1145 - accuracy: 0.7176\n",
      "Epoch 156/300\n",
      "89/89 [==============================] - 5s 54ms/step - loss: 1.0928 - accuracy: 0.7244\n",
      "Epoch 157/300\n",
      "89/89 [==============================] - 5s 54ms/step - loss: 1.0837 - accuracy: 0.7233\n",
      "Epoch 158/300\n",
      "89/89 [==============================] - 5s 54ms/step - loss: 1.0538 - accuracy: 0.7329\n",
      "Epoch 159/300\n",
      "89/89 [==============================] - 5s 54ms/step - loss: 1.0274 - accuracy: 0.7437\n",
      "Epoch 160/300\n",
      "89/89 [==============================] - 5s 54ms/step - loss: 1.0094 - accuracy: 0.7462\n",
      "Epoch 161/300\n",
      "89/89 [==============================] - 5s 55ms/step - loss: 0.9847 - accuracy: 0.7512\n",
      "Epoch 162/300\n",
      "89/89 [==============================] - 5s 55ms/step - loss: 0.9676 - accuracy: 0.7567\n",
      "Epoch 163/300\n",
      "89/89 [==============================] - 5s 54ms/step - loss: 0.9435 - accuracy: 0.7636\n",
      "Epoch 164/300\n",
      "89/89 [==============================] - 5s 55ms/step - loss: 0.9125 - accuracy: 0.7730\n",
      "Epoch 165/300\n",
      "89/89 [==============================] - 5s 55ms/step - loss: 0.8994 - accuracy: 0.7779\n",
      "Epoch 166/300\n",
      "89/89 [==============================] - 5s 55ms/step - loss: 0.8886 - accuracy: 0.7813\n",
      "Epoch 167/300\n",
      "89/89 [==============================] - 5s 55ms/step - loss: 0.8798 - accuracy: 0.7806\n",
      "Epoch 168/300\n",
      "89/89 [==============================] - 5s 55ms/step - loss: 0.8617 - accuracy: 0.7854\n",
      "Epoch 169/300\n",
      "89/89 [==============================] - 5s 54ms/step - loss: 0.8364 - accuracy: 0.7924\n",
      "Epoch 170/300\n",
      "89/89 [==============================] - 5s 54ms/step - loss: 0.8053 - accuracy: 0.8010\n",
      "Epoch 171/300\n",
      "89/89 [==============================] - 5s 55ms/step - loss: 0.7728 - accuracy: 0.8164\n",
      "Epoch 172/300\n",
      "89/89 [==============================] - 5s 55ms/step - loss: 0.7514 - accuracy: 0.8169\n",
      "Epoch 173/300\n",
      "89/89 [==============================] - 5s 55ms/step - loss: 0.7293 - accuracy: 0.8275\n",
      "Epoch 174/300\n",
      "89/89 [==============================] - 5s 56ms/step - loss: 0.7062 - accuracy: 0.8313\n",
      "Epoch 175/300\n",
      "89/89 [==============================] - 5s 56ms/step - loss: 0.6934 - accuracy: 0.8333\n",
      "Epoch 176/300\n",
      "89/89 [==============================] - 5s 55ms/step - loss: 0.6786 - accuracy: 0.8403\n",
      "Epoch 177/300\n",
      "89/89 [==============================] - 5s 58ms/step - loss: 0.6626 - accuracy: 0.8422\n",
      "Epoch 178/300\n",
      "89/89 [==============================] - 5s 54ms/step - loss: 0.6461 - accuracy: 0.8466\n",
      "Epoch 179/300\n",
      "89/89 [==============================] - 5s 54ms/step - loss: 0.6173 - accuracy: 0.8565\n",
      "Epoch 180/300\n",
      "89/89 [==============================] - 5s 55ms/step - loss: 0.5953 - accuracy: 0.8640\n",
      "Epoch 181/300\n",
      "89/89 [==============================] - 5s 56ms/step - loss: 0.5903 - accuracy: 0.8655\n",
      "Epoch 182/300\n",
      "89/89 [==============================] - 5s 57ms/step - loss: 0.5827 - accuracy: 0.8643\n",
      "Epoch 183/300\n",
      "89/89 [==============================] - 5s 57ms/step - loss: 0.5644 - accuracy: 0.8716\n",
      "Epoch 184/300\n",
      "89/89 [==============================] - 5s 57ms/step - loss: 0.5596 - accuracy: 0.8730\n",
      "Epoch 185/300\n",
      "89/89 [==============================] - 5s 56ms/step - loss: 0.5429 - accuracy: 0.8748\n",
      "Epoch 186/300\n",
      "89/89 [==============================] - 5s 55ms/step - loss: 0.5114 - accuracy: 0.8868\n",
      "Epoch 187/300\n",
      "89/89 [==============================] - 5s 54ms/step - loss: 0.4973 - accuracy: 0.8916\n",
      "Epoch 188/300\n",
      "89/89 [==============================] - 5s 55ms/step - loss: 0.4877 - accuracy: 0.8897\n",
      "Epoch 189/300\n",
      "89/89 [==============================] - 5s 54ms/step - loss: 0.4725 - accuracy: 0.8960\n",
      "Epoch 190/300\n",
      "89/89 [==============================] - 5s 55ms/step - loss: 0.4504 - accuracy: 0.9043\n",
      "Epoch 191/300\n",
      "89/89 [==============================] - 5s 55ms/step - loss: 0.4271 - accuracy: 0.9112\n",
      "Epoch 192/300\n",
      "89/89 [==============================] - 5s 55ms/step - loss: 0.4080 - accuracy: 0.9167\n",
      "Epoch 193/300\n",
      "89/89 [==============================] - 5s 54ms/step - loss: 0.3909 - accuracy: 0.9248\n",
      "Epoch 194/300\n",
      "89/89 [==============================] - 5s 55ms/step - loss: 0.3795 - accuracy: 0.9226\n",
      "Epoch 195/300\n",
      "89/89 [==============================] - 5s 55ms/step - loss: 0.3710 - accuracy: 0.9282\n",
      "Epoch 196/300\n",
      "89/89 [==============================] - 5s 55ms/step - loss: 0.3577 - accuracy: 0.9310\n",
      "Epoch 197/300\n",
      "89/89 [==============================] - 5s 55ms/step - loss: 0.3522 - accuracy: 0.9323\n",
      "Epoch 198/300\n",
      "89/89 [==============================] - 5s 55ms/step - loss: 0.3507 - accuracy: 0.9288\n",
      "Epoch 199/300\n",
      "89/89 [==============================] - 5s 55ms/step - loss: 0.3453 - accuracy: 0.9340\n",
      "Epoch 200/300\n",
      "89/89 [==============================] - 5s 55ms/step - loss: 0.3192 - accuracy: 0.9396\n",
      "Epoch 201/300\n",
      "89/89 [==============================] - 5s 56ms/step - loss: 0.3020 - accuracy: 0.9436\n",
      "Epoch 202/300\n",
      "89/89 [==============================] - 5s 56ms/step - loss: 0.2791 - accuracy: 0.9510\n",
      "Epoch 203/300\n",
      "89/89 [==============================] - 5s 55ms/step - loss: 0.2652 - accuracy: 0.9552\n",
      "Epoch 204/300\n",
      "89/89 [==============================] - 5s 55ms/step - loss: 0.2484 - accuracy: 0.9598\n",
      "Epoch 205/300\n",
      "89/89 [==============================] - 5s 55ms/step - loss: 0.2256 - accuracy: 0.9666\n",
      "Epoch 206/300\n",
      "89/89 [==============================] - 5s 55ms/step - loss: 0.2225 - accuracy: 0.9668\n",
      "Epoch 207/300\n",
      "89/89 [==============================] - 5s 55ms/step - loss: 0.2171 - accuracy: 0.9692\n",
      "Epoch 208/300\n",
      "89/89 [==============================] - 5s 54ms/step - loss: 0.2167 - accuracy: 0.9679\n",
      "Epoch 209/300\n",
      "89/89 [==============================] - 5s 54ms/step - loss: 0.2037 - accuracy: 0.9721\n",
      "Epoch 210/300\n",
      "89/89 [==============================] - 5s 54ms/step - loss: 0.1978 - accuracy: 0.9724\n",
      "Epoch 211/300\n",
      "89/89 [==============================] - 5s 54ms/step - loss: 0.1934 - accuracy: 0.9730\n",
      "Epoch 212/300\n",
      "89/89 [==============================] - 5s 54ms/step - loss: 0.2081 - accuracy: 0.9688\n",
      "Epoch 213/300\n",
      "89/89 [==============================] - 5s 55ms/step - loss: 0.3026 - accuracy: 0.9336\n",
      "Epoch 214/300\n",
      "89/89 [==============================] - 5s 54ms/step - loss: 0.3577 - accuracy: 0.9158\n",
      "Epoch 215/300\n",
      "89/89 [==============================] - 5s 54ms/step - loss: 0.4093 - accuracy: 0.8979\n",
      "Epoch 216/300\n",
      "89/89 [==============================] - 5s 55ms/step - loss: 0.3122 - accuracy: 0.9293\n",
      "Epoch 217/300\n",
      "89/89 [==============================] - 5s 55ms/step - loss: 0.1914 - accuracy: 0.9714\n",
      "Epoch 218/300\n",
      "89/89 [==============================] - 5s 55ms/step - loss: 0.1408 - accuracy: 0.9845\n",
      "Epoch 219/300\n",
      "89/89 [==============================] - 5s 55ms/step - loss: 0.1125 - accuracy: 0.9906\n",
      "Epoch 220/300\n",
      "89/89 [==============================] - 5s 55ms/step - loss: 0.0998 - accuracy: 0.9922\n",
      "Epoch 221/300\n",
      "89/89 [==============================] - 5s 55ms/step - loss: 0.0917 - accuracy: 0.9935\n",
      "Epoch 222/300\n",
      "89/89 [==============================] - 5s 55ms/step - loss: 0.0863 - accuracy: 0.9940\n",
      "Epoch 223/300\n",
      "89/89 [==============================] - 5s 54ms/step - loss: 0.0812 - accuracy: 0.9959\n",
      "Epoch 224/300\n",
      "89/89 [==============================] - 5s 54ms/step - loss: 0.0757 - accuracy: 0.9966\n",
      "Epoch 225/300\n",
      "89/89 [==============================] - 5s 55ms/step - loss: 0.0711 - accuracy: 0.9967\n",
      "Epoch 226/300\n",
      "89/89 [==============================] - 5s 55ms/step - loss: 0.0678 - accuracy: 0.9967\n",
      "Epoch 227/300\n",
      "89/89 [==============================] - 5s 55ms/step - loss: 0.0636 - accuracy: 0.9975\n",
      "Epoch 228/300\n",
      "89/89 [==============================] - 5s 55ms/step - loss: 0.0611 - accuracy: 0.9975\n",
      "Epoch 229/300\n",
      "89/89 [==============================] - 5s 55ms/step - loss: 0.0577 - accuracy: 0.9980\n",
      "Epoch 230/300\n",
      "89/89 [==============================] - 5s 55ms/step - loss: 0.0549 - accuracy: 0.9981\n",
      "Epoch 231/300\n",
      "89/89 [==============================] - 5s 55ms/step - loss: 0.0520 - accuracy: 0.9988\n",
      "Epoch 232/300\n",
      "89/89 [==============================] - 5s 55ms/step - loss: 0.0484 - accuracy: 0.9988\n",
      "Epoch 233/300\n",
      "89/89 [==============================] - 5s 55ms/step - loss: 0.0460 - accuracy: 0.9991\n",
      "Epoch 234/300\n",
      "89/89 [==============================] - 5s 55ms/step - loss: 0.0435 - accuracy: 0.9993\n",
      "Epoch 235/300\n",
      "89/89 [==============================] - 5s 55ms/step - loss: 0.0411 - accuracy: 0.9994\n",
      "Epoch 236/300\n",
      "89/89 [==============================] - 5s 55ms/step - loss: 0.0388 - accuracy: 0.9995\n",
      "Epoch 237/300\n",
      "89/89 [==============================] - 5s 55ms/step - loss: 0.0371 - accuracy: 0.9996\n",
      "Epoch 238/300\n",
      "89/89 [==============================] - 5s 55ms/step - loss: 0.0349 - accuracy: 0.9996\n",
      "Epoch 239/300\n",
      "89/89 [==============================] - 5s 55ms/step - loss: 0.0332 - accuracy: 0.9998\n",
      "Epoch 240/300\n",
      "89/89 [==============================] - 5s 55ms/step - loss: 0.0306 - accuracy: 1.0000\n",
      "Epoch 241/300\n",
      "89/89 [==============================] - 5s 55ms/step - loss: 0.0293 - accuracy: 0.9998\n",
      "Epoch 242/300\n",
      "89/89 [==============================] - 5s 55ms/step - loss: 0.0313 - accuracy: 0.9993\n",
      "Epoch 243/300\n",
      "89/89 [==============================] - 5s 55ms/step - loss: 0.5017 - accuracy: 0.8681\n",
      "Epoch 244/300\n",
      "89/89 [==============================] - 5s 55ms/step - loss: 1.3735 - accuracy: 0.6407\n",
      "Epoch 245/300\n",
      "89/89 [==============================] - 5s 55ms/step - loss: 0.4868 - accuracy: 0.8559\n",
      "Epoch 246/300\n",
      "89/89 [==============================] - 5s 55ms/step - loss: 0.1508 - accuracy: 0.9712\n",
      "Epoch 247/300\n",
      "89/89 [==============================] - 5s 55ms/step - loss: 0.0683 - accuracy: 0.9954\n",
      "Epoch 248/300\n",
      "89/89 [==============================] - 5s 55ms/step - loss: 0.0436 - accuracy: 0.9994\n",
      "Epoch 249/300\n",
      "89/89 [==============================] - 5s 55ms/step - loss: 0.0351 - accuracy: 0.9998\n",
      "Epoch 250/300\n",
      "89/89 [==============================] - 5s 55ms/step - loss: 0.0308 - accuracy: 0.9998\n",
      "Epoch 251/300\n",
      "89/89 [==============================] - 5s 55ms/step - loss: 0.0281 - accuracy: 1.0000\n",
      "Epoch 252/300\n",
      "89/89 [==============================] - 5s 55ms/step - loss: 0.0261 - accuracy: 1.0000\n",
      "Epoch 253/300\n",
      "89/89 [==============================] - 5s 55ms/step - loss: 0.0244 - accuracy: 1.0000\n",
      "Epoch 254/300\n",
      "89/89 [==============================] - 5s 55ms/step - loss: 0.0230 - accuracy: 1.0000\n",
      "Epoch 255/300\n",
      "89/89 [==============================] - 5s 55ms/step - loss: 0.0217 - accuracy: 1.0000\n",
      "Epoch 256/300\n",
      "89/89 [==============================] - 5s 56ms/step - loss: 0.0206 - accuracy: 1.0000\n",
      "Epoch 257/300\n",
      "89/89 [==============================] - 5s 56ms/step - loss: 0.0196 - accuracy: 1.0000\n",
      "Epoch 258/300\n",
      "89/89 [==============================] - 5s 56ms/step - loss: 0.0187 - accuracy: 1.0000\n",
      "Epoch 259/300\n",
      "89/89 [==============================] - 5s 56ms/step - loss: 0.0179 - accuracy: 1.0000\n",
      "Epoch 260/300\n",
      "89/89 [==============================] - 5s 57ms/step - loss: 0.0171 - accuracy: 1.0000\n",
      "Epoch 261/300\n",
      "89/89 [==============================] - 5s 56ms/step - loss: 0.0163 - accuracy: 1.0000\n",
      "Epoch 262/300\n",
      "89/89 [==============================] - 5s 59ms/step - loss: 0.0157 - accuracy: 1.0000\n",
      "Epoch 263/300\n",
      "89/89 [==============================] - 5s 57ms/step - loss: 0.0150 - accuracy: 1.0000\n",
      "Epoch 264/300\n",
      "89/89 [==============================] - 5s 57ms/step - loss: 0.0144 - accuracy: 1.0000\n",
      "Epoch 265/300\n",
      "89/89 [==============================] - 5s 57ms/step - loss: 0.0138 - accuracy: 1.0000\n",
      "Epoch 266/300\n",
      "89/89 [==============================] - 5s 57ms/step - loss: 0.0133 - accuracy: 1.0000\n",
      "Epoch 267/300\n",
      "89/89 [==============================] - 5s 56ms/step - loss: 0.0128 - accuracy: 1.0000\n",
      "Epoch 268/300\n",
      "89/89 [==============================] - 5s 55ms/step - loss: 0.0123 - accuracy: 1.0000\n",
      "Epoch 269/300\n",
      "89/89 [==============================] - 5s 55ms/step - loss: 0.0118 - accuracy: 1.0000\n",
      "Epoch 270/300\n",
      "89/89 [==============================] - 5s 55ms/step - loss: 0.0114 - accuracy: 1.0000\n",
      "Epoch 271/300\n",
      "89/89 [==============================] - 5s 56ms/step - loss: 0.0109 - accuracy: 1.0000\n",
      "Epoch 272/300\n",
      "89/89 [==============================] - 5s 56ms/step - loss: 0.0105 - accuracy: 1.0000\n",
      "Epoch 273/300\n",
      "89/89 [==============================] - 5s 56ms/step - loss: 0.0100 - accuracy: 1.0000\n",
      "Epoch 274/300\n",
      "89/89 [==============================] - 5s 57ms/step - loss: 0.0097 - accuracy: 1.0000\n",
      "Epoch 275/300\n",
      "89/89 [==============================] - 5s 57ms/step - loss: 0.0093 - accuracy: 1.0000\n",
      "Epoch 276/300\n",
      "89/89 [==============================] - 5s 57ms/step - loss: 0.0090 - accuracy: 1.0000\n",
      "Epoch 277/300\n",
      "89/89 [==============================] - 5s 56ms/step - loss: 0.0086 - accuracy: 1.0000\n",
      "Epoch 278/300\n",
      "89/89 [==============================] - 5s 55ms/step - loss: 0.0082 - accuracy: 1.0000\n",
      "Epoch 279/300\n",
      "89/89 [==============================] - 5s 55ms/step - loss: 0.0079 - accuracy: 1.0000\n",
      "Epoch 280/300\n",
      "89/89 [==============================] - 5s 55ms/step - loss: 0.0078 - accuracy: 1.0000\n",
      "Epoch 281/300\n",
      "89/89 [==============================] - 5s 55ms/step - loss: 0.0075 - accuracy: 1.0000\n",
      "Epoch 282/300\n",
      "89/89 [==============================] - 5s 55ms/step - loss: 0.0071 - accuracy: 1.0000\n",
      "Epoch 283/300\n",
      "89/89 [==============================] - 5s 55ms/step - loss: 0.0068 - accuracy: 1.0000\n",
      "Epoch 284/300\n",
      "89/89 [==============================] - 5s 56ms/step - loss: 0.0065 - accuracy: 1.0000\n",
      "Epoch 285/300\n",
      "89/89 [==============================] - 5s 59ms/step - loss: 0.0090 - accuracy: 0.9996\n",
      "Epoch 286/300\n",
      "89/89 [==============================] - 5s 56ms/step - loss: 1.2970 - accuracy: 0.7046\n",
      "Epoch 287/300\n",
      "89/89 [==============================] - 5s 55ms/step - loss: 1.1701 - accuracy: 0.6935\n",
      "Epoch 288/300\n",
      "89/89 [==============================] - 5s 55ms/step - loss: 0.2779 - accuracy: 0.9213\n",
      "Epoch 289/300\n",
      "89/89 [==============================] - 5s 55ms/step - loss: 0.0914 - accuracy: 0.9845\n",
      "Epoch 290/300\n",
      "89/89 [==============================] - 5s 55ms/step - loss: 0.0309 - accuracy: 0.9990\n",
      "Epoch 291/300\n",
      "89/89 [==============================] - 5s 55ms/step - loss: 0.0196 - accuracy: 1.0000\n",
      "Epoch 292/300\n",
      "89/89 [==============================] - 5s 55ms/step - loss: 0.0162 - accuracy: 1.0000\n",
      "Epoch 293/300\n",
      "89/89 [==============================] - 5s 55ms/step - loss: 0.0145 - accuracy: 1.0000\n",
      "Epoch 294/300\n",
      "89/89 [==============================] - 5s 55ms/step - loss: 0.0133 - accuracy: 1.0000\n",
      "Epoch 295/300\n",
      "89/89 [==============================] - 5s 55ms/step - loss: 0.0124 - accuracy: 1.0000\n",
      "Epoch 296/300\n",
      "89/89 [==============================] - 5s 55ms/step - loss: 0.0115 - accuracy: 1.0000\n",
      "Epoch 297/300\n",
      "89/89 [==============================] - 5s 55ms/step - loss: 0.0109 - accuracy: 1.0000\n",
      "Epoch 298/300\n",
      "89/89 [==============================] - 5s 56ms/step - loss: 0.0103 - accuracy: 1.0000\n",
      "Epoch 299/300\n",
      "89/89 [==============================] - 5s 55ms/step - loss: 0.0097 - accuracy: 1.0000\n",
      "Epoch 300/300\n",
      "89/89 [==============================] - 5s 55ms/step - loss: 0.0093 - accuracy: 1.0000\n"
     ]
    },
    {
     "data": {
      "text/plain": [
       "<keras.callbacks.History at 0x1ffa8c7d4f0>"
      ]
     },
     "execution_count": 75,
     "metadata": {},
     "output_type": "execute_result"
    }
   ],
   "source": [
    "# fitting the model\n",
    "\n",
    "model.fit(X, y, batch_size = 128, epochs = 300, verbose = 1)"
   ]
  },
  {
   "cell_type": "code",
   "execution_count": 77,
   "id": "514852ac-2e39-43fd-8578-7c0110d495f4",
   "metadata": {},
   "outputs": [],
   "source": [
    "# saving the model to file\n",
    "\n",
    "model.save('epoch300.h5')\n",
    "\n",
    "# saving the tokenizer\n",
    "\n",
    "dump(tokenizer, open('epoch300', 'wb'))"
   ]
  },
  {
   "cell_type": "markdown",
   "id": "db359914-5de7-4234-938c-b7d236713499",
   "metadata": {},
   "source": [
    "## Generating New Text"
   ]
  },
  {
   "cell_type": "code",
   "execution_count": 78,
   "id": "1daf25f9-b868-4b0d-8374-fb2d5782bce0",
   "metadata": {},
   "outputs": [],
   "source": [
    "from random import randint\n",
    "from pickle import load\n",
    "from keras.models import load_model\n",
    "from keras.preprocessing.sequence import pad_sequences"
   ]
  },
  {
   "cell_type": "code",
   "execution_count": 98,
   "id": "e4e3363b-7a30-4176-b218-5b93d3ce990e",
   "metadata": {},
   "outputs": [],
   "source": [
    "# going to take in a model, a tokenizer, seq_len, seed_text, num_gen_words\n",
    "\n",
    "def generate_text(model, tokenizer, seq_len, seed_text, num_gen_words):\n",
    "    '''\n",
    "    INPUTS:\n",
    "    model : model that was trained on text data\n",
    "    tokenizer : tokenizer that was fit on text data\n",
    "    seq_len : length of training sequence\n",
    "    seed_text : raw string text to serve as the seed\n",
    "    num_gen_words : number of words to be generated by model\n",
    "    '''\n",
    "    \n",
    "    # Final Output\n",
    "    output_text = []\n",
    "    \n",
    "    # Intial Seed Sequence\n",
    "    input_text = seed_text\n",
    "    \n",
    "    # Create num_gen_words\n",
    "    for i in range(num_gen_words):\n",
    "        \n",
    "        # Take the input text string and encode it to a sequence\n",
    "        encoded_text = tokenizer.texts_to_sequences([input_text])[0]\n",
    "        \n",
    "        # Pad sequences to our trained rate (50 words in the video)\n",
    "        pad_encoded = pad_sequences([encoded_text], maxlen=seq_len, truncating='pre')\n",
    "        \n",
    "        # Predict Class Probabilities for each word\n",
    "        pred_word_ind = np.argmax(model.predict(pad_encoded, verbose=0), axis = -1)[0]\n",
    "        \n",
    "        # Grab word\n",
    "        pred_word = tokenizer.index_word[pred_word_ind] \n",
    "        \n",
    "        # Update the sequence of input text (shifting one over with the new word)\n",
    "        input_text += ' ' + pred_word\n",
    "        \n",
    "        output_text.append(pred_word)\n",
    "        \n",
    "    # Make it look like a sentence.\n",
    "    return ' '.join(output_text)"
   ]
  },
  {
   "cell_type": "code",
   "execution_count": 81,
   "id": "fb5a56b6-c5ad-4613-9390-2a1420c36452",
   "metadata": {},
   "outputs": [],
   "source": [
    "# text_sequences[0]"
   ]
  },
  {
   "cell_type": "code",
   "execution_count": 109,
   "id": "fe2b6cd5-0487-4c20-8556-fdd2dcc77566",
   "metadata": {},
   "outputs": [],
   "source": [
    "import random\n",
    "random.seed(107)\n",
    "random_pick = random.randint(0,len(text_sequences))"
   ]
  },
  {
   "cell_type": "code",
   "execution_count": 110,
   "id": "e3f737ae-b15e-437e-aeba-0e76a7f6b711",
   "metadata": {},
   "outputs": [],
   "source": [
    "random_seed_text = text_sequences[random_pick]"
   ]
  },
  {
   "cell_type": "code",
   "execution_count": 111,
   "id": "fa68d538-dc90-4d2b-83dd-725c235bad4a",
   "metadata": {},
   "outputs": [
    {
     "data": {
      "text/plain": [
       "['aggregated',\n",
       " 'opinions',\n",
       " 'of',\n",
       " 'many',\n",
       " 'aged',\n",
       " 'persons',\n",
       " 'with',\n",
       " 'whom',\n",
       " 'i',\n",
       " 'conversed',\n",
       " 'upon',\n",
       " 'the',\n",
       " 'subject',\n",
       " 'the',\n",
       " 'picture',\n",
       " 'represents',\n",
       " 'a',\n",
       " 'cape',\n",
       " 'horner',\n",
       " 'in',\n",
       " 'a',\n",
       " 'great',\n",
       " 'hurricane',\n",
       " 'the',\n",
       " 'half',\n",
       " 'foundered']"
      ]
     },
     "execution_count": 111,
     "metadata": {},
     "output_type": "execute_result"
    }
   ],
   "source": [
    "random_seed_text"
   ]
  },
  {
   "cell_type": "code",
   "execution_count": 112,
   "id": "7a926e66-14b9-4e22-a408-0ef7c28340a7",
   "metadata": {},
   "outputs": [],
   "source": [
    "seed_text = ' '.join(random_seed_text)"
   ]
  },
  {
   "cell_type": "code",
   "execution_count": 113,
   "id": "c179c740-ab54-4d00-a20b-9fb65ece61fb",
   "metadata": {},
   "outputs": [
    {
     "data": {
      "text/plain": [
       "'aggregated opinions of many aged persons with whom i conversed upon the subject the picture represents a cape horner in a great hurricane the half foundered'"
      ]
     },
     "execution_count": 113,
     "metadata": {},
     "output_type": "execute_result"
    }
   ],
   "source": [
    "seed_text"
   ]
  },
  {
   "cell_type": "code",
   "execution_count": 114,
   "id": "9919e88d-bb73-464d-ac83-241e8fa56ec5",
   "metadata": {},
   "outputs": [
    {
     "data": {
      "text/plain": [
       "'ship weltering there with its three dismantled masts alone visible and an exasperated whale purposing to spring clean over the craft is in the enormous act of impaling himself upon the three mast heads the opposite wall of this entry was hung all over with a heathenish array of monstrous'"
      ]
     },
     "execution_count": 114,
     "metadata": {},
     "output_type": "execute_result"
    }
   ],
   "source": [
    "generate_text(model,tokenizer,seq_len,seed_text=seed_text,num_gen_words=50)"
   ]
  }
 ],
 "metadata": {
  "kernelspec": {
   "display_name": "Python 3",
   "language": "python",
   "name": "python3"
  },
  "language_info": {
   "codemirror_mode": {
    "name": "ipython",
    "version": 3
   },
   "file_extension": ".py",
   "mimetype": "text/x-python",
   "name": "python",
   "nbconvert_exporter": "python",
   "pygments_lexer": "ipython3",
   "version": "3.8.8"
  }
 },
 "nbformat": 4,
 "nbformat_minor": 5
}
